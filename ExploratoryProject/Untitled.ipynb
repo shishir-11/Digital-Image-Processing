{
 "cells": [
  {
   "cell_type": "code",
   "execution_count": 3,
   "id": "f25d7278",
   "metadata": {},
   "outputs": [],
   "source": [
    "import pandas as pd\n",
    "import matplotlib.pyplot as plt \n",
    "import seaborn as sns\n",
    "import numpy as np"
   ]
  },
  {
   "cell_type": "code",
   "execution_count": 4,
   "id": "e94b0fd1",
   "metadata": {},
   "outputs": [],
   "source": [
    "import cv2"
   ]
  },
  {
   "cell_type": "code",
   "execution_count": 5,
   "id": "0dcdf7ef",
   "metadata": {},
   "outputs": [],
   "source": [
    "# from skimage import data"
   ]
  },
  {
   "cell_type": "code",
   "execution_count": 66,
   "id": "8812134f",
   "metadata": {},
   "outputs": [],
   "source": [
    "elephant = cv2.imread('3.jpg')\n",
    "bean_bag_guy = cv2.imread('7.jpg')\n",
    "some_japanese_shit = cv2.imread('8.jpg')\n",
    "bear = cv2.imread('be.jpg')\n",
    "camera  = cv2.imread('gamma_transformed0.1.jpg')\n",
    "low_light_fruits = cv2.imread('Low-light-images-under-three-illumination-conditions-figure-best-viewed-in-color.png')\n",
    "fefda = cv2.imread('tmp648_thumb_thumb.jpg')\n",
    "coffee_beans = cv2.imread('download (9).jpg')"
   ]
  },
  {
   "cell_type": "code",
   "execution_count": null,
   "id": "7338b947",
   "metadata": {},
   "outputs": [],
   "source": []
  },
  {
   "cell_type": "code",
   "execution_count": 6,
   "id": "7c0df157",
   "metadata": {},
   "outputs": [],
   "source": [
    "# plt.figure(figsize=(12, 8))\n",
    "# plt.imshow(cameraman_image,cmap='gray')"
   ]
  },
  {
   "cell_type": "code",
   "execution_count": null,
   "id": "adf57a25",
   "metadata": {},
   "outputs": [],
   "source": []
  },
  {
   "cell_type": "code",
   "execution_count": 7,
   "id": "43b25f28",
   "metadata": {},
   "outputs": [],
   "source": [
    "# green = np.uint8([[[128,128,128]]])\n",
    "# hsv_green = cv2.cvtColor(green,cv2.COLOR_BGR2HSV)\n",
    "# print( hsv_green )"
   ]
  },
  {
   "cell_type": "code",
   "execution_count": 8,
   "id": "952ed1f0",
   "metadata": {},
   "outputs": [],
   "source": [
    "def get_obj(data,lower,upper):\n",
    "# Convert BGR to HSV\n",
    "    hsv = cv2.cvtColor(data,cv2.COLOR_BGR2HSV)\n",
    "        # define range of blue color in HSV\n",
    "    # cv2.imshow('hehe',hsv)\n",
    "    # lower_blue = np.array([0,0,0])\n",
    "    # upper_blue = np.array([255,110,100])\n",
    "        # Threshold the HSV image to get only blue colors\n",
    "    mask = cv2.inRange(hsv, lower, upper)\n",
    "        # Bitwise-AND mask and original image\n",
    "    res = cv2.bitwise_and(data,data, mask= mask)\n",
    "    cv2.imshow('frame',data)\n",
    "    cv2.imshow('mask',mask)\n",
    "    cv2.imshow('res',res)\n",
    "    cv2.waitKey(0)\n",
    "    cv2.destroyAllWindows()\n"
   ]
  },
  {
   "cell_type": "markdown",
   "id": "bbf613a3",
   "metadata": {},
   "source": [
    "## Colour Slicing for highlighting colour range\n",
    "Most of the colours require a good upper and lower ranges to get the desired results ."
   ]
  },
  {
   "cell_type": "code",
   "execution_count": 4,
   "id": "12366135",
   "metadata": {},
   "outputs": [],
   "source": [
    "def highlight_obj_ele(image,lower,upper):\n",
    "    hsv = cv2.cvtColor(image, cv2.COLOR_BGR2HSV)\n",
    "\n",
    "    # Define range of colors to highlight (e.g., blue)\n",
    "#     lower_blue = np.array([90, 50, 50])  # Lower range for blue\n",
    "#     upper_blue = np.array([130, 255, 255])  # Upper range for blue\n",
    "\n",
    "    # Create a mask for the specified color range\n",
    "    mask = cv2.inRange(hsv, lower, upper)\n",
    "\n",
    "    # Create a desaturated version of the image\n",
    "    image_grey = cv2.cvtColor(image,cv2.COLOR_BGR2GRAY)\n",
    "    desaturated_image = cv2.cvtColor(image, cv2.COLOR_BGR2GRAY)\n",
    "    desaturated_image = cv2.cvtColor(desaturated_image, cv2.COLOR_GRAY2BGR)\n",
    "\n",
    "    # Apply the mask to the desaturated image\n",
    "    desaturated_image[np.where(mask == 0)] = image[np.where(mask==0)]\n",
    "#     desaturated_image = cv2.cvtColor(image, cv2.COLOR_HSV2BGR)\n",
    "    \n",
    "    # Show the original image and the desaturated non-highlighted areas\n",
    "    cv2.imshow('Original Image', image)\n",
    "    cv2.imshow('Desaturated Non-Highlighted Areas', desaturated_image)\n",
    "    cv2.waitKey(0)\n",
    "    cv2.destroyAllWindows()"
   ]
  },
  {
   "cell_type": "code",
   "execution_count": 5,
   "id": "15b39120",
   "metadata": {},
   "outputs": [],
   "source": [
    "highlight_obj_ele(elephant,np.array([0,0,0]),np.array([255,110,100])) #elephant"
   ]
  },
  {
   "cell_type": "code",
   "execution_count": 198,
   "id": "d9e5f176",
   "metadata": {},
   "outputs": [],
   "source": []
  },
  {
   "cell_type": "code",
   "execution_count": 6,
   "id": "888c29cf",
   "metadata": {},
   "outputs": [],
   "source": [
    "def highlight_obj(image,lower,upper):\n",
    "    hsv = cv2.cvtColor(image, cv2.COLOR_BGR2HSV)\n",
    "    cv2.imshow('Original Image', image)\n",
    "    \n",
    "\n",
    "    # Define range of colors to highlight (e.g., blue)\n",
    "#     lower_blue = np.array([90, 50, 50])  # Lower range for blue\n",
    "#     upper_blue = np.array([130, 255, 255])  # Upper range for blue\n",
    "\n",
    "    # Create a mask for the specified color range\n",
    "    mask = cv2.inRange(hsv, lower, upper)\n",
    "\n",
    "    # Create a desaturated verson of the image\n",
    "    desaturated_image = hsv\n",
    "\n",
    "#     desaturated_image = cv2.cvtColor(desaturated_image, cv2.COLOR_GRAY2BGR)\n",
    "    \n",
    "    # Apply the mask to the desaturated image\n",
    "    desaturated_image[np.where(mask == 0)] = hsv[np.where(mask == 0)]\n",
    "#     desaturated_image = cv2.cvtColor(desaturated_image, cv2.COLOR_HSV2BGR)\n",
    "    \n",
    "    desaturated_image = cv2.cvtColor(desaturated_image,cv2.COLOR_HSV2BGR)\n",
    "    # Show the original image and the desaturated non-highlighted areas\n",
    "    cv2.imshow('Desaturated Non-Highlighted Areas', desaturated_image)\n",
    "    cv2.waitKey(0)\n",
    "    cv2.destroyAllWindows()"
   ]
  },
  {
   "cell_type": "code",
   "execution_count": 7,
   "id": "dd4285dc",
   "metadata": {},
   "outputs": [],
   "source": [
    "highlight_obj(bear,np.array([10,0,0]),np.array([60,40,100]))"
   ]
  },
  {
   "cell_type": "code",
   "execution_count": null,
   "id": "a362bd59",
   "metadata": {},
   "outputs": [],
   "source": []
  },
  {
   "cell_type": "code",
   "execution_count": 4,
   "id": "cb9cdeab",
   "metadata": {},
   "outputs": [],
   "source": [
    "cv2.imshow('wadad',bear)\n",
    "cv2.waitKey(0)\n",
    "cv2.destroyAllWindows()"
   ]
  },
  {
   "cell_type": "markdown",
   "id": "9228a11e",
   "metadata": {},
   "source": [
    "## Gamma Correction in Images"
   ]
  },
  {
   "cell_type": "code",
   "execution_count": 8,
   "id": "52bde022",
   "metadata": {},
   "outputs": [],
   "source": [
    "def gamma_solve(image,gammas,c):\n",
    "    cv2.imshow('Desaturated Non-Highlighted Areas', image)\n",
    "    \n",
    "    for gamma in gammas :\n",
    "        im = np.array(c*255*(image/255)**gamma, dtype = 'uint8')\n",
    "        cv2.imshow(f'Desaturated Non-Highlighted Areas{gamma}', im)\n",
    "        cv2.waitKey(0)\n",
    "        cv2.destroyAllWindows()\n",
    "    \n",
    "    "
   ]
  },
  {
   "cell_type": "code",
   "execution_count": 15,
   "id": "41e71890",
   "metadata": {},
   "outputs": [],
   "source": [
    "gamma_solve(elephant,[0.1,0.5,1.2,2.2],1)"
   ]
  },
  {
   "cell_type": "code",
   "execution_count": 16,
   "id": "8d511d03",
   "metadata": {},
   "outputs": [],
   "source": [
    "gamma_solve(low_light_fruits,[0.1,0.5,0.8,1.2,1.5,1.8],1)"
   ]
  },
  {
   "cell_type": "code",
   "execution_count": 65,
   "id": "849e7517",
   "metadata": {},
   "outputs": [],
   "source": [
    "gamma_solve(camera,[0.1,0.5,1.2,2.2,2.5,4.0,5.0,10],1)"
   ]
  },
  {
   "cell_type": "code",
   "execution_count": 57,
   "id": "1c1ac53a",
   "metadata": {},
   "outputs": [],
   "source": [
    "gamma_solve(bean_bag_guy,[0.1,0.5,1.2,1.5,2.2,2.5,4.0,5.0])"
   ]
  },
  {
   "cell_type": "code",
   "execution_count": 50,
   "id": "f2f5ed8e",
   "metadata": {},
   "outputs": [],
   "source": [
    "gamma_solve(some_japanese_shit,[0.03,0.05,0.1,0.5,1.2,2.2,2.5,4.0,5.0])"
   ]
  },
  {
   "cell_type": "code",
   "execution_count": 51,
   "id": "ce044478",
   "metadata": {},
   "outputs": [],
   "source": [
    "        \n",
    "    cv2.imshow('asdad',bean_bag_guy)\n",
    "    cv2.waitKey(0)\n",
    "    cv2.destroyAllWindows()"
   ]
  },
  {
   "cell_type": "code",
   "execution_count": 7,
   "id": "6eb67ff0",
   "metadata": {},
   "outputs": [],
   "source": []
  },
  {
   "cell_type": "code",
   "execution_count": 8,
   "id": "b55e3814",
   "metadata": {},
   "outputs": [],
   "source": [
    "ll2  = cv2.imread('download (5).jpg')"
   ]
  },
  {
   "cell_type": "code",
   "execution_count": 39,
   "id": "667dda4e",
   "metadata": {},
   "outputs": [],
   "source": [
    "fefda = cv2.imread('tmp648_thumb_thumb.jpg')"
   ]
  },
  {
   "cell_type": "code",
   "execution_count": 42,
   "id": "71ce869f",
   "metadata": {},
   "outputs": [],
   "source": [
    "    cv2.namedWindow('asdad', cv2.WINDOW_NORMAL) \n",
    "    cv2.resizeWindow('asdad' , 400,300)\n",
    "    cv2.imshow('asdad',fefda)\n",
    "    \n",
    "    cv2.waitKey(0)\n",
    "    cv2.destroyAllWindows()"
   ]
  },
  {
   "cell_type": "markdown",
   "id": "6daa4d72",
   "metadata": {},
   "source": [
    "## Contrast stretching for Black and White images"
   ]
  },
  {
   "cell_type": "code",
   "execution_count": 9,
   "id": "b6b5a86f",
   "metadata": {},
   "outputs": [],
   "source": [
    "def contrast_stretching(image,s1,r1,s2,r2):\n",
    "    image = cv2.cvtColor(image,cv2.COLOR_RGB2GRAY)\n",
    "    \n",
    "    for n in range(0,image.shape[0]):\n",
    "        for k in range(0,image.shape[1]):\n",
    "            if image[n][k] <r1 :\n",
    "                image[n][k] = image[n][k]*s1/r1\n",
    "            elif(image[n][k]<r2 and image[n][k]>r1):\n",
    "                image[n][k] = image[n][k]*(s2-s1)/(r2-r1)\n",
    "            else:\n",
    "                image[n][k]= image[n][k]*(255-s2)/(255-s2)\n",
    "\n",
    "#     image = cv2.cvtColor(image,cv2.COLOR_GRAY2BGR)\n",
    "    \n",
    "    cv2.namedWindow('asdad', cv2.WINDOW_NORMAL) \n",
    "    cv2.resizeWindow('asdad' , 400,300)\n",
    "    cv2.imshow('asdad',image)\n",
    "    cv2.waitKey(0)\n",
    "    cv2.destroyAllWindows()"
   ]
  },
  {
   "cell_type": "code",
   "execution_count": 13,
   "id": "a5dd399a",
   "metadata": {},
   "outputs": [],
   "source": [
    "contrast_stretching(ll2,80,40,200,120)"
   ]
  },
  {
   "cell_type": "code",
   "execution_count": 18,
   "id": "335d2d8b",
   "metadata": {},
   "outputs": [],
   "source": [
    "contrast_stretching(ll2,80,50,150,100)"
   ]
  },
  {
   "cell_type": "code",
   "execution_count": null,
   "id": "7429d812",
   "metadata": {},
   "outputs": [],
   "source": [
    "contrast_stretching(ll2,80,40,200,120)"
   ]
  },
  {
   "cell_type": "code",
   "execution_count": 22,
   "id": "505b6954",
   "metadata": {},
   "outputs": [],
   "source": [
    "contrast_stretching(low_light,70,30,200,140)"
   ]
  },
  {
   "cell_type": "code",
   "execution_count": 55,
   "id": "d271c8f9",
   "metadata": {},
   "outputs": [],
   "source": [
    "contrast_stretching(low_light,80,40,200,90)"
   ]
  },
  {
   "cell_type": "code",
   "execution_count": 54,
   "id": "ea14d842",
   "metadata": {},
   "outputs": [],
   "source": [
    "contrast_stretching(ll2,80,40,200,80)"
   ]
  },
  {
   "cell_type": "code",
   "execution_count": 69,
   "id": "fe1436b1",
   "metadata": {},
   "outputs": [],
   "source": [
    "contrast_stretching(fefda,10,20,100,80)"
   ]
  },
  {
   "cell_type": "code",
   "execution_count": null,
   "id": "8aa4b265",
   "metadata": {},
   "outputs": [],
   "source": [
    "contrast_stretching(ll2,80,40,200,120)"
   ]
  },
  {
   "cell_type": "code",
   "execution_count": 118,
   "id": "1e1dcc3c",
   "metadata": {},
   "outputs": [],
   "source": [
    "img = cv2.cvtColor(low_light,cv2.COLOR_BGR2GRAY)"
   ]
  },
  {
   "cell_type": "code",
   "execution_count": 90,
   "id": "467d1480",
   "metadata": {},
   "outputs": [
    {
     "data": {
      "text/plain": [
       "array([0, 0, 1, ..., 0, 0, 1], dtype=uint8)"
      ]
     },
     "execution_count": 90,
     "metadata": {},
     "output_type": "execute_result"
    }
   ],
   "source": [
    "img[img<2]"
   ]
  },
  {
   "cell_type": "code",
   "execution_count": 66,
   "id": "d34c4d33",
   "metadata": {},
   "outputs": [],
   "source": [
    "gamma_solve(fefda,[0.02,0.05,0.09, 1.2,1.5,2.0,2.5,3,5],1)"
   ]
  },
  {
   "cell_type": "markdown",
   "id": "aa5455f7",
   "metadata": {},
   "source": [
    "## Dynamic range compression\n"
   ]
  },
  {
   "cell_type": "code",
   "execution_count": null,
   "id": "9976a2f8",
   "metadata": {},
   "outputs": [],
   "source": [
    "\n"
   ]
  },
  {
   "cell_type": "code",
   "execution_count": null,
   "id": "206badc2",
   "metadata": {},
   "outputs": [],
   "source": []
  },
  {
   "cell_type": "code",
   "execution_count": 10,
   "id": "dc444013",
   "metadata": {},
   "outputs": [],
   "source": [
    "def drc(image):\n",
    "    image_float32 = image.astype(np.float32) / 255.0\n",
    "\n",
    "    # Apply logarithmic transformation (logarithmic compression) to the image\n",
    "    compressed_image = np.uint8(255 *np.log(1 + image_float32))\n",
    "\n",
    "    # Display original and compressed images\n",
    "    cv2.namedWindow('ok',cv2.WINDOW_NORMAL)\n",
    "    cv2.resizeWindow('ok',400,300)\n",
    "    cv2.namedWindow('ok1',cv2.WINDOW_NORMAL)\n",
    "    cv2.resizeWindow('ok1',400,300)\n",
    "    cv2.imshow('ok', image)\n",
    "    cv2.imshow('ok1', compressed_image)\n",
    "    cv2.waitKey(0)\n",
    "    cv2.destroyAllWindows()"
   ]
  },
  {
   "cell_type": "code",
   "execution_count": 86,
   "id": "c01db2a3",
   "metadata": {},
   "outputs": [],
   "source": [
    "drc(some_japanese_shit)"
   ]
  },
  {
   "cell_type": "code",
   "execution_count": 17,
   "id": "33c26672",
   "metadata": {},
   "outputs": [],
   "source": [
    "img = cv2.imread(\"download (8).jpg\")"
   ]
  },
  {
   "cell_type": "code",
   "execution_count": 20,
   "id": "2c975491",
   "metadata": {},
   "outputs": [],
   "source": [
    "drc(img)"
   ]
  },
  {
   "cell_type": "code",
   "execution_count": 32,
   "id": "0032ed3b",
   "metadata": {},
   "outputs": [],
   "source": [
    "im = np.array(255*(camera/255)**3, dtype = 'uint8')\n",
    "\n",
    "drc(im)"
   ]
  },
  {
   "cell_type": "markdown",
   "id": "98f69398",
   "metadata": {},
   "source": [
    "## Image Negative"
   ]
  },
  {
   "cell_type": "code",
   "execution_count": 64,
   "id": "ceb243f9",
   "metadata": {},
   "outputs": [],
   "source": [
    "def neg_img(image):\n",
    "    neg_image  = 255- image\n",
    "    cv2.namedWindow('original',cv2.WINDOW_NORMAL)\n",
    "    cv2.resizeWindow('original',400,300)\n",
    "    cv2.namedWindow('negative',cv2.WINDOW_NORMAL)\n",
    "    cv2.resizeWindow('negative',400,300)\n",
    "    cv2.imshow('original', image)\n",
    "    cv2.imshow('negative', neg_image)\n",
    "    cv2.waitKey(0)\n",
    "    cv2.destroyAllWindows()"
   ]
  },
  {
   "cell_type": "code",
   "execution_count": 25,
   "id": "358cd153",
   "metadata": {},
   "outputs": [],
   "source": [
    "neg_img(bear)"
   ]
  },
  {
   "cell_type": "markdown",
   "id": "b1e6f963",
   "metadata": {},
   "source": [
    "## Gray Level Slicing\n",
    "We will be using two methods \n",
    "- Decreasing all other intensity levels to a constant except the range we need \n",
    "- Increasing intensity in our range to a particular constant while keeping rest of the range original "
   ]
  },
  {
   "cell_type": "code",
   "execution_count": 33,
   "id": "19be8a18",
   "metadata": {},
   "outputs": [],
   "source": [
    "def gray_slice_no_bg(image,lower_limit ,upper_limit,lower_const,upper_const):\n",
    "    gray_image = cv2.cvtColor(image,cv2.COLOR_BGR2GRAY)\n",
    "    for n in range(0,gray_image.shape[0]):\n",
    "        for k in range(0,gray_image.shape[1]):\n",
    "            if (gray_image[n][k] <lower_limit or gray_image[n][k] >upper_limit) :\n",
    "                gray_image[n][k] = lower_const\n",
    "            else :\n",
    "                gray_image[n][k] = upper_const\n",
    "    \n",
    "#     gray_image  = cv2.cvtColor(gray_image,cv2.COLOR_GRAY2BGR)\n",
    "    \n",
    "    cv2.namedWindow('original',cv2.WINDOW_NORMAL)\n",
    "    cv2.resizeWindow('original',400,300)\n",
    "    cv2.namedWindow('negative',cv2.WINDOW_NORMAL)\n",
    "    cv2.resizeWindow('negative',400,300)\n",
    "    cv2.imshow('original', image)\n",
    "    cv2.imshow('negative', gray_image)\n",
    "    cv2.waitKey(0)\n",
    "    cv2.destroyAllWindows()\n"
   ]
  },
  {
   "cell_type": "code",
   "execution_count": 72,
   "id": "bf3c7a6b",
   "metadata": {},
   "outputs": [],
   "source": [
    "def gray_slice_bg(image,lower_limit ,upper_limit,upper_const):\n",
    "    gray_image = cv2.cvtColor(image,cv2.COLOR_BGR2GRAY)\n",
    "    for n in range(0,gray_image.shape[0]):\n",
    "        for k in range(0,gray_image.shape[1]):\n",
    "            if (gray_image[n][k] <lower_limit or gray_image[n][k] >upper_limit) :\n",
    "                continue\n",
    "            else :\n",
    "                gray_image[n][k] = upper_const\n",
    "    \n",
    "#     gray_image  = cv2.cvtColor(gray_image,cv2.COLOR_GRAY2BGR)\n",
    "    \n",
    "    cv2.namedWindow('original',cv2.WINDOW_NORMAL)\n",
    "    cv2.resizeWindow('original',400,300)\n",
    "    cv2.namedWindow('negative',cv2.WINDOW_NORMAL)\n",
    "    cv2.resizeWindow('negative',400,300)\n",
    "    cv2.imshow('original', image)\n",
    "    cv2.imshow('negative', gray_image)\n",
    "    cv2.waitKey(0)\n",
    "    cv2.destroyAllWindows()\n"
   ]
  },
  {
   "cell_type": "code",
   "execution_count": 12,
   "id": "d37bd428",
   "metadata": {},
   "outputs": [
    {
     "data": {
      "text/plain": [
       "array([[[255, 255, 255],\n",
       "        [255, 255, 255],\n",
       "        [255, 255, 255],\n",
       "        ...,\n",
       "        [255, 255, 255],\n",
       "        [255, 255, 255],\n",
       "        [255, 255, 255]],\n",
       "\n",
       "       [[255, 255, 255],\n",
       "        [255, 255, 255],\n",
       "        [255, 255, 255],\n",
       "        ...,\n",
       "        [255, 255, 255],\n",
       "        [255, 255, 255],\n",
       "        [255, 255, 255]],\n",
       "\n",
       "       [[255, 255, 255],\n",
       "        [255, 255, 255],\n",
       "        [255, 255, 255],\n",
       "        ...,\n",
       "        [255, 255, 255],\n",
       "        [255, 255, 255],\n",
       "        [255, 255, 255]],\n",
       "\n",
       "       ...,\n",
       "\n",
       "       [[255, 255, 255],\n",
       "        [255, 255, 255],\n",
       "        [255, 255, 255],\n",
       "        ...,\n",
       "        [255, 255, 255],\n",
       "        [255, 255, 255],\n",
       "        [255, 255, 255]],\n",
       "\n",
       "       [[255, 255, 255],\n",
       "        [255, 255, 255],\n",
       "        [255, 255, 255],\n",
       "        ...,\n",
       "        [255, 255, 255],\n",
       "        [255, 255, 255],\n",
       "        [255, 255, 255]],\n",
       "\n",
       "       [[255, 255, 255],\n",
       "        [255, 255, 255],\n",
       "        [255, 255, 255],\n",
       "        ...,\n",
       "        [255, 255, 255],\n",
       "        [255, 255, 255],\n",
       "        [255, 255, 255]]], dtype=uint8)"
      ]
     },
     "execution_count": 12,
     "metadata": {},
     "output_type": "execute_result"
    }
   ],
   "source": [
    "fefda"
   ]
  },
  {
   "cell_type": "code",
   "execution_count": 83,
   "id": "8cd13b3d",
   "metadata": {},
   "outputs": [
    {
     "name": "stdout",
     "output_type": "stream",
     "text": [
      "180\n",
      "190\n",
      "200\n",
      "210\n",
      "220\n",
      "230\n",
      "240\n",
      "250\n"
     ]
    }
   ],
   "source": [
    "for i in range(180,255,10):\n",
    "    gray_slice_no_bg(camera,i,i+5,180,255)\n",
    "    print(i)"
   ]
  },
  {
   "cell_type": "code",
   "execution_count": 76,
   "id": "23d48b10",
   "metadata": {},
   "outputs": [
    {
     "name": "stdout",
     "output_type": "stream",
     "text": [
      "0\n",
      "10\n",
      "20\n",
      "30\n",
      "40\n",
      "50\n",
      "60\n",
      "70\n",
      "80\n",
      "90\n",
      "100\n",
      "110\n",
      "120\n",
      "130\n",
      "140\n",
      "150\n",
      "160\n",
      "170\n",
      "180\n",
      "190\n",
      "200\n",
      "210\n",
      "220\n",
      "230\n",
      "240\n"
     ]
    }
   ],
   "source": [
    "for i in range(0,250,10):\n",
    "    gray_slice_bg(coffee_beans,i,i+50,255)\n",
    "    print(i)"
   ]
  },
  {
   "cell_type": "code",
   "execution_count": 78,
   "id": "2482a56a",
   "metadata": {},
   "outputs": [
    {
     "name": "stdout",
     "output_type": "stream",
     "text": [
      "0\n",
      "10\n",
      "20\n",
      "30\n",
      "40\n",
      "50\n",
      "60\n",
      "70\n",
      "80\n",
      "90\n",
      "100\n",
      "110\n",
      "120\n",
      "130\n",
      "140\n",
      "150\n"
     ]
    },
    {
     "name": "stderr",
     "output_type": "stream",
     "text": [
      "C:\\Users\\shish\\AppData\\Local\\Temp\\ipykernel_10400\\3236046671.py:8: DeprecationWarning: NumPy will stop allowing conversion of out-of-bound Python integers to integer arrays.  The conversion of 260 to uint8 will fail in the future.\n",
      "For the old behavior, usually:\n",
      "    np.array(value).astype(dtype)`\n",
      "will give the desired result (the cast overflows).\n",
      "  gray_image[n][k] = upper_const\n"
     ]
    },
    {
     "name": "stdout",
     "output_type": "stream",
     "text": [
      "160\n"
     ]
    },
    {
     "name": "stderr",
     "output_type": "stream",
     "text": [
      "C:\\Users\\shish\\AppData\\Local\\Temp\\ipykernel_10400\\3236046671.py:8: DeprecationWarning: NumPy will stop allowing conversion of out-of-bound Python integers to integer arrays.  The conversion of 270 to uint8 will fail in the future.\n",
      "For the old behavior, usually:\n",
      "    np.array(value).astype(dtype)`\n",
      "will give the desired result (the cast overflows).\n",
      "  gray_image[n][k] = upper_const\n"
     ]
    },
    {
     "name": "stdout",
     "output_type": "stream",
     "text": [
      "170\n"
     ]
    },
    {
     "name": "stderr",
     "output_type": "stream",
     "text": [
      "C:\\Users\\shish\\AppData\\Local\\Temp\\ipykernel_10400\\3236046671.py:8: DeprecationWarning: NumPy will stop allowing conversion of out-of-bound Python integers to integer arrays.  The conversion of 280 to uint8 will fail in the future.\n",
      "For the old behavior, usually:\n",
      "    np.array(value).astype(dtype)`\n",
      "will give the desired result (the cast overflows).\n",
      "  gray_image[n][k] = upper_const\n"
     ]
    },
    {
     "name": "stdout",
     "output_type": "stream",
     "text": [
      "180\n"
     ]
    },
    {
     "name": "stderr",
     "output_type": "stream",
     "text": [
      "C:\\Users\\shish\\AppData\\Local\\Temp\\ipykernel_10400\\3236046671.py:8: DeprecationWarning: NumPy will stop allowing conversion of out-of-bound Python integers to integer arrays.  The conversion of 290 to uint8 will fail in the future.\n",
      "For the old behavior, usually:\n",
      "    np.array(value).astype(dtype)`\n",
      "will give the desired result (the cast overflows).\n",
      "  gray_image[n][k] = upper_const\n"
     ]
    },
    {
     "name": "stdout",
     "output_type": "stream",
     "text": [
      "190\n"
     ]
    },
    {
     "name": "stderr",
     "output_type": "stream",
     "text": [
      "C:\\Users\\shish\\AppData\\Local\\Temp\\ipykernel_10400\\3236046671.py:8: DeprecationWarning: NumPy will stop allowing conversion of out-of-bound Python integers to integer arrays.  The conversion of 300 to uint8 will fail in the future.\n",
      "For the old behavior, usually:\n",
      "    np.array(value).astype(dtype)`\n",
      "will give the desired result (the cast overflows).\n",
      "  gray_image[n][k] = upper_const\n"
     ]
    },
    {
     "name": "stdout",
     "output_type": "stream",
     "text": [
      "200\n"
     ]
    },
    {
     "name": "stderr",
     "output_type": "stream",
     "text": [
      "C:\\Users\\shish\\AppData\\Local\\Temp\\ipykernel_10400\\3236046671.py:8: DeprecationWarning: NumPy will stop allowing conversion of out-of-bound Python integers to integer arrays.  The conversion of 310 to uint8 will fail in the future.\n",
      "For the old behavior, usually:\n",
      "    np.array(value).astype(dtype)`\n",
      "will give the desired result (the cast overflows).\n",
      "  gray_image[n][k] = upper_const\n"
     ]
    },
    {
     "name": "stdout",
     "output_type": "stream",
     "text": [
      "210\n"
     ]
    },
    {
     "name": "stderr",
     "output_type": "stream",
     "text": [
      "C:\\Users\\shish\\AppData\\Local\\Temp\\ipykernel_10400\\3236046671.py:8: DeprecationWarning: NumPy will stop allowing conversion of out-of-bound Python integers to integer arrays.  The conversion of 320 to uint8 will fail in the future.\n",
      "For the old behavior, usually:\n",
      "    np.array(value).astype(dtype)`\n",
      "will give the desired result (the cast overflows).\n",
      "  gray_image[n][k] = upper_const\n"
     ]
    },
    {
     "name": "stdout",
     "output_type": "stream",
     "text": [
      "220\n"
     ]
    },
    {
     "name": "stderr",
     "output_type": "stream",
     "text": [
      "C:\\Users\\shish\\AppData\\Local\\Temp\\ipykernel_10400\\3236046671.py:8: DeprecationWarning: NumPy will stop allowing conversion of out-of-bound Python integers to integer arrays.  The conversion of 330 to uint8 will fail in the future.\n",
      "For the old behavior, usually:\n",
      "    np.array(value).astype(dtype)`\n",
      "will give the desired result (the cast overflows).\n",
      "  gray_image[n][k] = upper_const\n"
     ]
    },
    {
     "name": "stdout",
     "output_type": "stream",
     "text": [
      "230\n"
     ]
    },
    {
     "name": "stderr",
     "output_type": "stream",
     "text": [
      "C:\\Users\\shish\\AppData\\Local\\Temp\\ipykernel_10400\\3236046671.py:8: DeprecationWarning: NumPy will stop allowing conversion of out-of-bound Python integers to integer arrays.  The conversion of 340 to uint8 will fail in the future.\n",
      "For the old behavior, usually:\n",
      "    np.array(value).astype(dtype)`\n",
      "will give the desired result (the cast overflows).\n",
      "  gray_image[n][k] = upper_const\n"
     ]
    },
    {
     "name": "stdout",
     "output_type": "stream",
     "text": [
      "240\n"
     ]
    }
   ],
   "source": [
    "for i in range(0,250,10):\n",
    "    gray_slice_bg(fefda,i,i+50)\n",
    "    print(i)"
   ]
  },
  {
   "cell_type": "code",
   "execution_count": null,
   "id": "44863df6",
   "metadata": {},
   "outputs": [],
   "source": [
    "\n"
   ]
  }
 ],
 "metadata": {
  "kernelspec": {
   "display_name": "Python 3 (ipykernel)",
   "language": "python",
   "name": "python3"
  },
  "language_info": {
   "codemirror_mode": {
    "name": "ipython",
    "version": 3
   },
   "file_extension": ".py",
   "mimetype": "text/x-python",
   "name": "python",
   "nbconvert_exporter": "python",
   "pygments_lexer": "ipython3",
   "version": "3.11.5"
  }
 },
 "nbformat": 4,
 "nbformat_minor": 5
}
